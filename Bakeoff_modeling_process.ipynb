{
 "cells": [
  {
   "cell_type": "markdown",
   "metadata": {},
   "source": [
    "# Kings County Housing Prices Bakeoff\n",
    "\n",
    "Below are a list of steps that you should take while trying to complete your bake-off entry."
   ]
  },
  {
   "cell_type": "markdown",
   "metadata": {},
   "source": [
    "## Step 1: Read in Data"
   ]
  },
  {
   "cell_type": "code",
   "execution_count": 150,
   "metadata": {},
   "outputs": [],
   "source": [
    "import pandas as pd\n",
    "import numpy as np\n",
    "import datetime\n",
    "from dateutil.relativedelta import relativedelta\n",
    "\n",
    "from scipy.stats import norm\n",
    "from scipy import stats\n",
    "import seaborn as sns\n",
    "import matplotlib.pyplot as plt\n",
    "import geopy.distance\n",
    "\n",
    "from sklearn.model_selection import train_test_split\n",
    "from sklearn.linear_model import LinearRegression\n",
    "from sklearn import metrics\n",
    "from sklearn.preprocessing import PolynomialFeatures\n",
    "from sklearn.feature_selection import SelectKBest, f_regression,mutual_info_regression\n",
    "from sklearn.feature_selection import RFECV\n",
    "\n",
    "from sklearn.preprocessing import StandardScaler\n",
    "from sklearn import linear_model\n",
    "\n",
    "import statsmodels.formula.api as smf\n",
    "import statsmodels.api as sm\n",
    "\n",
    "import pickle"
   ]
  },
  {
   "cell_type": "code",
   "execution_count": 151,
   "metadata": {},
   "outputs": [],
   "source": [
    "kc_df = pd.read_csv('Data_files/kc_house_data_train.csv')\n",
    "# kc_house_test = pd.read_csv('kc_house_data_test_features.csv')"
   ]
  },
  {
   "cell_type": "markdown",
   "metadata": {},
   "source": [
    "## Step 2: Exploratory Data Analysis\n",
    "Become familiar with the data. Look to see if there are any extreme values.\n",
    "Additionally create data visualizations to determine if there are any relationships between your features and your target variables.\n"
   ]
  },
  {
   "cell_type": "code",
   "execution_count": 152,
   "metadata": {},
   "outputs": [
    {
     "data": {
      "text/html": [
       "<div>\n",
       "<style scoped>\n",
       "    .dataframe tbody tr th:only-of-type {\n",
       "        vertical-align: middle;\n",
       "    }\n",
       "\n",
       "    .dataframe tbody tr th {\n",
       "        vertical-align: top;\n",
       "    }\n",
       "\n",
       "    .dataframe thead th {\n",
       "        text-align: right;\n",
       "    }\n",
       "</style>\n",
       "<table border=\"1\" class=\"dataframe\">\n",
       "  <thead>\n",
       "    <tr style=\"text-align: right;\">\n",
       "      <th></th>\n",
       "      <th>Unnamed: 0</th>\n",
       "      <th>id</th>\n",
       "      <th>date</th>\n",
       "      <th>price</th>\n",
       "      <th>bedrooms</th>\n",
       "      <th>bathrooms</th>\n",
       "      <th>sqft_living</th>\n",
       "      <th>sqft_lot</th>\n",
       "      <th>floors</th>\n",
       "      <th>waterfront</th>\n",
       "      <th>...</th>\n",
       "      <th>grade</th>\n",
       "      <th>sqft_above</th>\n",
       "      <th>sqft_basement</th>\n",
       "      <th>yr_built</th>\n",
       "      <th>yr_renovated</th>\n",
       "      <th>zipcode</th>\n",
       "      <th>lat</th>\n",
       "      <th>long</th>\n",
       "      <th>sqft_living15</th>\n",
       "      <th>sqft_lot15</th>\n",
       "    </tr>\n",
       "  </thead>\n",
       "  <tbody>\n",
       "    <tr>\n",
       "      <th>0</th>\n",
       "      <td>0</td>\n",
       "      <td>2591820310</td>\n",
       "      <td>20141006T000000</td>\n",
       "      <td>365000.0</td>\n",
       "      <td>4</td>\n",
       "      <td>2.25</td>\n",
       "      <td>2070</td>\n",
       "      <td>8893</td>\n",
       "      <td>2.0</td>\n",
       "      <td>0</td>\n",
       "      <td>...</td>\n",
       "      <td>8</td>\n",
       "      <td>2070</td>\n",
       "      <td>0</td>\n",
       "      <td>1986</td>\n",
       "      <td>0</td>\n",
       "      <td>98058</td>\n",
       "      <td>47.4388</td>\n",
       "      <td>-122.162</td>\n",
       "      <td>2390</td>\n",
       "      <td>7700</td>\n",
       "    </tr>\n",
       "    <tr>\n",
       "      <th>1</th>\n",
       "      <td>1</td>\n",
       "      <td>7974200820</td>\n",
       "      <td>20140821T000000</td>\n",
       "      <td>865000.0</td>\n",
       "      <td>5</td>\n",
       "      <td>3.00</td>\n",
       "      <td>2900</td>\n",
       "      <td>6730</td>\n",
       "      <td>1.0</td>\n",
       "      <td>0</td>\n",
       "      <td>...</td>\n",
       "      <td>8</td>\n",
       "      <td>1830</td>\n",
       "      <td>1070</td>\n",
       "      <td>1977</td>\n",
       "      <td>0</td>\n",
       "      <td>98115</td>\n",
       "      <td>47.6784</td>\n",
       "      <td>-122.285</td>\n",
       "      <td>2370</td>\n",
       "      <td>6283</td>\n",
       "    </tr>\n",
       "    <tr>\n",
       "      <th>2</th>\n",
       "      <td>2</td>\n",
       "      <td>7701450110</td>\n",
       "      <td>20140815T000000</td>\n",
       "      <td>1038000.0</td>\n",
       "      <td>4</td>\n",
       "      <td>2.50</td>\n",
       "      <td>3770</td>\n",
       "      <td>10893</td>\n",
       "      <td>2.0</td>\n",
       "      <td>0</td>\n",
       "      <td>...</td>\n",
       "      <td>11</td>\n",
       "      <td>3770</td>\n",
       "      <td>0</td>\n",
       "      <td>1997</td>\n",
       "      <td>0</td>\n",
       "      <td>98006</td>\n",
       "      <td>47.5646</td>\n",
       "      <td>-122.129</td>\n",
       "      <td>3710</td>\n",
       "      <td>9685</td>\n",
       "    </tr>\n",
       "    <tr>\n",
       "      <th>3</th>\n",
       "      <td>3</td>\n",
       "      <td>9522300010</td>\n",
       "      <td>20150331T000000</td>\n",
       "      <td>1490000.0</td>\n",
       "      <td>3</td>\n",
       "      <td>3.50</td>\n",
       "      <td>4560</td>\n",
       "      <td>14608</td>\n",
       "      <td>2.0</td>\n",
       "      <td>0</td>\n",
       "      <td>...</td>\n",
       "      <td>12</td>\n",
       "      <td>4560</td>\n",
       "      <td>0</td>\n",
       "      <td>1990</td>\n",
       "      <td>0</td>\n",
       "      <td>98034</td>\n",
       "      <td>47.6995</td>\n",
       "      <td>-122.228</td>\n",
       "      <td>4050</td>\n",
       "      <td>14226</td>\n",
       "    </tr>\n",
       "    <tr>\n",
       "      <th>4</th>\n",
       "      <td>4</td>\n",
       "      <td>9510861140</td>\n",
       "      <td>20140714T000000</td>\n",
       "      <td>711000.0</td>\n",
       "      <td>3</td>\n",
       "      <td>2.50</td>\n",
       "      <td>2550</td>\n",
       "      <td>5376</td>\n",
       "      <td>2.0</td>\n",
       "      <td>0</td>\n",
       "      <td>...</td>\n",
       "      <td>9</td>\n",
       "      <td>2550</td>\n",
       "      <td>0</td>\n",
       "      <td>2004</td>\n",
       "      <td>0</td>\n",
       "      <td>98052</td>\n",
       "      <td>47.6647</td>\n",
       "      <td>-122.083</td>\n",
       "      <td>2250</td>\n",
       "      <td>4050</td>\n",
       "    </tr>\n",
       "  </tbody>\n",
       "</table>\n",
       "<p>5 rows × 22 columns</p>\n",
       "</div>"
      ],
      "text/plain": [
       "   Unnamed: 0          id             date      price  bedrooms  bathrooms  \\\n",
       "0           0  2591820310  20141006T000000   365000.0         4       2.25   \n",
       "1           1  7974200820  20140821T000000   865000.0         5       3.00   \n",
       "2           2  7701450110  20140815T000000  1038000.0         4       2.50   \n",
       "3           3  9522300010  20150331T000000  1490000.0         3       3.50   \n",
       "4           4  9510861140  20140714T000000   711000.0         3       2.50   \n",
       "\n",
       "   sqft_living  sqft_lot  floors  waterfront  ...  grade  sqft_above  \\\n",
       "0         2070      8893     2.0           0  ...      8        2070   \n",
       "1         2900      6730     1.0           0  ...      8        1830   \n",
       "2         3770     10893     2.0           0  ...     11        3770   \n",
       "3         4560     14608     2.0           0  ...     12        4560   \n",
       "4         2550      5376     2.0           0  ...      9        2550   \n",
       "\n",
       "   sqft_basement  yr_built  yr_renovated  zipcode      lat     long  \\\n",
       "0              0      1986             0    98058  47.4388 -122.162   \n",
       "1           1070      1977             0    98115  47.6784 -122.285   \n",
       "2              0      1997             0    98006  47.5646 -122.129   \n",
       "3              0      1990             0    98034  47.6995 -122.228   \n",
       "4              0      2004             0    98052  47.6647 -122.083   \n",
       "\n",
       "   sqft_living15  sqft_lot15  \n",
       "0           2390        7700  \n",
       "1           2370        6283  \n",
       "2           3710        9685  \n",
       "3           4050       14226  \n",
       "4           2250        4050  \n",
       "\n",
       "[5 rows x 22 columns]"
      ]
     },
     "execution_count": 152,
     "metadata": {},
     "output_type": "execute_result"
    }
   ],
   "source": [
    "kc_df.head()"
   ]
  },
  {
   "cell_type": "code",
   "execution_count": 153,
   "metadata": {},
   "outputs": [],
   "source": [
    "#Keeping the ID column\n",
    "kc_id = kc_df['id']\n",
    "#dropping the ID\n",
    "kc_df.drop(['id', 'Unnamed: 0', 'date'], axis = 1, inplace = True)"
   ]
  },
  {
   "cell_type": "code",
   "execution_count": 154,
   "metadata": {},
   "outputs": [
    {
     "data": {
      "text/plain": [
       "zipcode         -0.048958\n",
       "long             0.019327\n",
       "condition        0.036099\n",
       "yr_built         0.056450\n",
       "sqft_lot15       0.081423\n",
       "sqft_lot         0.086803\n",
       "yr_renovated     0.117770\n",
       "floors           0.256985\n",
       "waterfront       0.275779\n",
       "lat              0.302394\n",
       "bedrooms         0.305106\n",
       "sqft_basement    0.323312\n",
       "view             0.395485\n",
       "bathrooms        0.524335\n",
       "sqft_living15    0.585567\n",
       "sqft_above       0.607760\n",
       "grade            0.666215\n",
       "sqft_living      0.703540\n",
       "price            1.000000\n",
       "Name: price, dtype: float64"
      ]
     },
     "execution_count": 154,
     "metadata": {},
     "output_type": "execute_result"
    }
   ],
   "source": [
    "price_corr = kc_df[kc_df.columns[:]].corr()['price'][:]\n",
    "price_corr.sort_values()"
   ]
  },
  {
   "cell_type": "code",
   "execution_count": 155,
   "metadata": {},
   "outputs": [
    {
     "name": "stderr",
     "output_type": "stream",
     "text": [
      "/Users/christadawson/opt/anaconda3/lib/python3.8/site-packages/seaborn/distributions.py:2551: FutureWarning: `distplot` is a deprecated function and will be removed in a future version. Please adapt your code to use either `displot` (a figure-level function with similar flexibility) or `histplot` (an axes-level function for histograms).\n",
      "  warnings.warn(msg, FutureWarning)\n"
     ]
    },
    {
     "data": {
      "image/png": "[encoded data removed]",
      "text/plain": [
       "<Figure size 1440x720 with 2 Axes>"
      ]
     },
     "metadata": {},
     "output_type": "display_data"
    },
    {
     "data": {
      "text/plain": [
       "<Figure size 576x396 with 0 Axes>"
      ]
     },
     "metadata": {},
     "output_type": "display_data"
    }
   ],
   "source": [
    "fig = plt.figure(figsize=(20,10))\n",
    "plt.subplot(2,1,1)\n",
    "plt.ylabel('Frequency')\n",
    "plt.title('Frequency of Price in for Homes in Kings County')\n",
    "sns.distplot(kc_df['price'])\n",
    "plt.subplot(2,1,2)\n",
    "plt.boxplot(kc_df['price'], vert= False)\n",
    "plt.xlabel('price')\n",
    "plt.show()\n",
    "plt.savefig('images/histogram.png')"
   ]
  },
  {
   "cell_type": "code",
   "execution_count": 156,
   "metadata": {},
   "outputs": [
    {
     "data": {
      "image/png": "[encoded data removed]",
      "text/plain": [
       "<Figure size 720x648 with 2 Axes>"
      ]
     },
     "metadata": {},
     "output_type": "display_data"
    },
    {
     "data": {
      "text/plain": [
       "<Figure size 576x396 with 0 Axes>"
      ]
     },
     "metadata": {},
     "output_type": "display_data"
    }
   ],
   "source": [
    "plt.style.use('seaborn')\n",
    "sns.set(style=\"white\") \n",
    "f, ax = plt.subplots(figsize=(10, 9))\n",
    "mask = np.zeros_like(kc_df.corr())\n",
    "mask[np.triu_indices_from(mask)] = True\n",
    "with sns.axes_style(\"white\"):\n",
    "    ax = sns.heatmap(kc_df.corr(), mask=mask, square=True)\n",
    "b, t = plt.ylim() \n",
    "b += .75\n",
    "t -= .75 \n",
    "plt.ylim(b, t) \n",
    "plt.show()\n",
    "plt.savefig('images/heatmap.png')"
   ]
  },
  {
   "cell_type": "code",
   "execution_count": 157,
   "metadata": {},
   "outputs": [
    {
     "data": {
      "image/png": "[encoded data removed]",
      "text/plain": [
       "<Figure size 576x288 with 1 Axes>"
      ]
     },
     "metadata": {},
     "output_type": "display_data"
    },
    {
     "data": {
      "text/plain": [
       "<Figure size 576x396 with 0 Axes>"
      ]
     },
     "metadata": {},
     "output_type": "display_data"
    }
   ],
   "source": [
    "floor_price = kc_df.groupby('floors')['price'].mean()\n",
    "# .sort_values(ascending = False)\n",
    "kc_mean_price = kc_df.price.mean()\n",
    "#top5 neighborhood label for plot\n",
    "\n",
    "#plotting the data\n",
    "plt.subplots(figsize=(8,4))\n",
    "sns.barplot(x=floor_price.index, y=floor_price, order=floor_price.index, palette=\"Blues_d\")\n",
    "plt.xticks(np.arange(6), rotation=75, size=8) #relabel x with list above\n",
    "plt.hlines(kc_mean_price,  -.5 , 5.5, colors=\"darkgoldenrod\", label=\"Average Price\") #plot average price horizontal line\n",
    "\n",
    "#create labels on graph\n",
    "plt.xlabel(\"Floors\", size=14)\n",
    "plt.ylabel(\"Prices ($1mil)\", size=14)\n",
    "plt.title(\"Average Price given # of Floors\", size=16, y=1.08)\n",
    "plt.legend() #show legend\n",
    "plt.show();\n",
    "plt.savefig('images/price_floors.png')"
   ]
  },
  {
   "cell_type": "code",
   "execution_count": 158,
   "metadata": {},
   "outputs": [
    {
     "name": "stdout",
     "output_type": "stream",
     "text": [
      "The property condition have a statistically significant impact on average property value\n",
      "Conditions F-statisic Probability:  2.0554674592701098e-06\n"
     ]
    }
   ],
   "source": [
    "alpha = 0.05 \n",
    "#ANOVA Test Setup\n",
    "formula = 'price~condition'\n",
    "lm_condition = smf.ols(formula, kc_df).fit()\n",
    "anova_condition = sm.stats.anova_lm(lm_condition, typ=2)\n",
    "\n",
    "if anova_condition[\"PR(>F)\"][0] < alpha:\n",
    "    print(\"The property condition have a statistically significant impact on average property value\")\n",
    "    print(\"Conditions F-statisic Probability: \", anova_condition[\"PR(>F)\"][0])"
   ]
  },
  {
   "cell_type": "code",
   "execution_count": 159,
   "metadata": {},
   "outputs": [
    {
     "data": {
      "image/png": "[encoded data removed]",
      "text/plain": [
       "<Figure size 576x288 with 1 Axes>"
      ]
     },
     "metadata": {},
     "output_type": "display_data"
    },
    {
     "data": {
      "text/plain": [
       "<Figure size 576x396 with 0 Axes>"
      ]
     },
     "metadata": {},
     "output_type": "display_data"
    }
   ],
   "source": [
    "waterfront_price = kc_df.groupby('waterfront')['price'].mean()\n",
    "# .sort_values(ascending = False)\n",
    "kc_mean_price = kc_df.price.mean()\n",
    "#top5 neighborhood label for plot\n",
    "water_labels=['no waterfront','waterfront']\n",
    "#plotting the data\n",
    "plt.subplots(figsize=(8,4))\n",
    "sns.barplot(x=waterfront_price.index, y=waterfront_price, order=waterfront_price.index, palette=\"Blues_d\")\n",
    "plt.xticks(np.arange(2), water_labels, rotation=0, size=9) #relabel x with list above\n",
    "plt.hlines(kc_mean_price,  -.5 , 1.5, colors=\"darkgoldenrod\", label=\"Average Price\") #plot average price horizontal line\n",
    "\n",
    "#create labels on graph\n",
    "plt.xlabel(\"Waterfront\", size=13)\n",
    "plt.ylabel(\"Prices ($1mil)\", size=13)\n",
    "plt.title(\"Avg Price of Waterfront and Non-Waterfront Properties\", size=14, y=1.08)\n",
    "plt.legend() #show legend\n",
    "plt.show();\n",
    "plt.savefig('images/waterfront_price.png')"
   ]
  },
  {
   "cell_type": "code",
   "execution_count": 160,
   "metadata": {},
   "outputs": [
    {
     "name": "stdout",
     "output_type": "stream",
     "text": [
      "Waterfront vs No Waterfront T-test P Value:  6.940441256090536e-23\n",
      "The P value is less than alpha, reject null-hypothesis\n"
     ]
    }
   ],
   "source": [
    "is_waterfront = kc_df[(kc_df['waterfront'] == 1)]\n",
    "waterfront_price = is_waterfront.price\n",
    "no_waterfront = kc_df[(kc_df['waterfront'] == 0)]\n",
    "notwaterfront_price = no_waterfront.price\n",
    "\n",
    "alpha = 0.05\n",
    "waterfront_p_val = stats.ttest_ind(waterfront_price, notwaterfront_price, equal_var=False)[1]\n",
    "print(\"Waterfront vs No Waterfront T-test P Value: \", waterfront_p_val)\n",
    "if waterfront_p_val < alpha:\n",
    "    print(\"The P value is less than alpha, reject null-hypothesis\")"
   ]
  },
  {
   "cell_type": "code",
   "execution_count": 161,
   "metadata": {},
   "outputs": [],
   "source": [
    "kc_df['sqft_basement'] = np.where(kc_df['sqft_basement'] != 0, 1, 0)\n",
    "#Sets sqft_basement to categorical data"
   ]
  },
  {
   "cell_type": "code",
   "execution_count": 162,
   "metadata": {},
   "outputs": [
    {
     "data": {
      "image/png": "[encoded data removed]",
      "text/plain": [
       "<Figure size 1008x288 with 2 Axes>"
      ]
     },
     "metadata": {},
     "output_type": "display_data"
    }
   ],
   "source": [
    "\n",
    "#--------------------------Property Feature Calculation---------------------------------------#\n",
    "basement = kc_df[(kc_df[\"sqft_basement\"] > 0)]\n",
    "basement_mean = basement.price.mean()\n",
    "no_basement = kc_df[(kc_df[\"sqft_basement\"] == 0)]\n",
    "no_basement_mean = no_basement.price.mean()\n",
    "\n",
    "#mean values to plot\n",
    "renovated = kc_df[(kc_df[\"yr_renovated\"] > 0)]\n",
    "renovated_mean = renovated.price.mean()\n",
    "not_renovated = kc_df[(kc_df[\"yr_renovated\"] == 0)]\n",
    "not_renovated_mean = not_renovated.price.mean()\n",
    "\n",
    "#prepare plot labels\n",
    "label_basement = [\"Basement\", \"No basement\"]\n",
    "values_basement = [basement_mean, no_basement_mean]\n",
    "label_renovation = [\"Renovated\", \"No Renovation\"]\n",
    "values_renovation = [renovated_mean, not_renovated_mean]\n",
    "\n",
    "#--------------------------Bar Plots--------------------------------------#\n",
    "fig, ax = plt.subplots(1, 2, figsize=(14,4))\n",
    "\n",
    "sns.barplot(ax=ax[0], x=label_basement, y=values_basement, palette=\"Blues_r\")\n",
    "sns.barplot(ax=ax[1], x=label_renovation, y=values_renovation, palette=\"Blues_r\")\n",
    "ax[0].hlines(kc_mean_price, -.5 ,1.5, colors=\"coral\", label=\"Average Price\") #plot average price horizontal line\n",
    "ax[1].hlines(kc_mean_price, -.5 ,1.5, colors=\"coral\", label=\"Average Price\") #plot average price horizontal line\n",
    "\n",
    "#prettify graph\n",
    "ax[0].set_ylabel(\"Average Prices ($)\", size=12)\n",
    "ax[0].set_title(\"Average Property Value\", size=14)\n",
    "ax[0].set_ylim(0,1.1*renovated_mean)\n",
    "ax[0].legend()\n",
    "\n",
    "ax[1].set_ylabel(\"Average Prices ($)\", size=12)\n",
    "ax[1].set_title(\"Average Property Value\", size=14)\n",
    "ax[1].set_ylim(0,1.1*renovated_mean)\n",
    "ax[1].legend()\n",
    "\n",
    "plt.suptitle(\"Affect of Basement and Renovation on Property Value\", size=16, y=1.02)\n",
    "plt.savefig(\"images/basement_renovation_value.png\",bbox_inches = \"tight\")\n",
    "plt.show();"
   ]
  },
  {
   "cell_type": "code",
   "execution_count": 163,
   "metadata": {},
   "outputs": [
    {
     "name": "stdout",
     "output_type": "stream",
     "text": [
      "Basement vs No Basement T-test P Value:  4.897332653268288e-50\n",
      "The P value is less than alpha, reject null-hypothesis\n"
     ]
    }
   ],
   "source": [
    "is_basement = kc_df[(kc_df['sqft_basement']> 0)]\n",
    "basement_price = is_basement.price\n",
    "no_basement = kc_df[(kc_df['sqft_basement'] == 0)]\n",
    "no_basement_price = no_waterfront.price\n",
    "\n",
    "alpha = 0.05\n",
    "basement_p_val = stats.ttest_ind(basement_price, no_basement_price, equal_var=False)[1]\n",
    "print(\"Basement vs No Basement T-test P Value: \", basement_p_val)\n",
    "if basement_p_val < alpha:\n",
    "    print(\"The P value is less than alpha, reject null-hypothesis\")"
   ]
  },
  {
   "cell_type": "code",
   "execution_count": 164,
   "metadata": {},
   "outputs": [
    {
     "data": {
      "image/png": "[encoded data removed]",
      "text/plain": [
       "<Figure size 576x288 with 3 Axes>"
      ]
     },
     "metadata": {},
     "output_type": "display_data"
    },
    {
     "data": {
      "text/plain": [
       "<Figure size 576x396 with 0 Axes>"
      ]
     },
     "metadata": {},
     "output_type": "display_data"
    }
   ],
   "source": [
    "mean = kc_df.groupby(\"condition\")[\"price\"].mean()\n",
    "median = kc_df.groupby(\"condition\")[\"price\"].median()\n",
    "score = np.arange(1,6)\n",
    "\n",
    "fig, ax = plt.subplots(figsize=(8,4))\n",
    "ax2 = ax.twinx() #set ax2 on same x axis as ax\n",
    "ax3 = ax.twinx() #same as above, for hline\n",
    "width = 0.5\n",
    "\n",
    "ax.bar(x=score, height=median, width=width,\n",
    "       label=\"Median Price\", color=\"midnightblue\", alpha=0.8)\n",
    "ax2.bar(x=score, height=mean, width=width,\n",
    "        label=\"Mean Price\", color=\"royalblue\", alpha=0.8)\n",
    "ax3.hlines(kc_mean_price, .7 ,5.3, colors=\"red\", label=\"Average Price\")\n",
    "\n",
    "ax.set_ylim(0,1.2*mean.max())\n",
    "ax2.set_ylim(0,1.2*mean.max())\n",
    "ax3.set_ylim(0,1.2*mean.max())\n",
    "ax2.yaxis.set_visible(False) #hide the 2nd axis\n",
    "ax3.yaxis.set_visible(False)\n",
    "\n",
    "ax.legend(bbox_to_anchor=(0,0,1,1), loc=\"upper left\")\n",
    "ax2.legend(bbox_to_anchor=(0,-.1,1,1), loc=\"upper left\")\n",
    "ax3.legend(bbox_to_anchor=(0,0,1,1), loc=\"upper right\")\n",
    "\n",
    "ax.set_ylabel(\"Average Prices ($)\", size=14)\n",
    "ax.set_xlabel(\"Condition Score\", size=14)\n",
    "plt.title(\"Average Property Value per Condition\", size=16, y=1.08)\n",
    "\n",
    "plt.legend()\n",
    "plt.show();\n",
    "plt.savefig('images/condition_price.png')"
   ]
  },
  {
   "cell_type": "code",
   "execution_count": 165,
   "metadata": {},
   "outputs": [
    {
     "name": "stdout",
     "output_type": "stream",
     "text": [
      "The property condition have a statistically significant impact on average property value\n",
      "Conditions F-statisic Probability:  6.813536869395142e-24\n"
     ]
    }
   ],
   "source": [
    "alpha = 0.05 \n",
    "#ANOVA Test Setup\n",
    "formula = 'price~C(condition)'\n",
    "lm_condition = smf.ols(formula, kc_df).fit()\n",
    "anova_condition = sm.stats.anova_lm(lm_condition, typ=2)\n",
    "\n",
    "if anova_condition[\"PR(>F)\"][0] < alpha:\n",
    "    print(\"The property condition have a statistically significant impact on average property value\")\n",
    "    print(\"Conditions F-statisic Probability: \", anova_condition[\"PR(>F)\"][0])"
   ]
  },
  {
   "cell_type": "code",
   "execution_count": 166,
   "metadata": {},
   "outputs": [
    {
     "data": {
      "image/png": "[encoded data removed]",
      "text/plain": [
       "<Figure size 576x288 with 1 Axes>"
      ]
     },
     "metadata": {},
     "output_type": "display_data"
    },
    {
     "data": {
      "text/plain": [
       "<Figure size 576x396 with 0 Axes>"
      ]
     },
     "metadata": {},
     "output_type": "display_data"
    }
   ],
   "source": [
    "#property values by zipcode calculation\n",
    "kc_top_price = kc_df.groupby(\"zipcode\")[\"price\"].mean().sort_values(ascending=False)[:5]\n",
    "# .sort_values(ascending = False)\n",
    "kc_mean_price = kc_df.price.mean()\n",
    "\n",
    "#plotting the data\n",
    "plt.subplots(figsize=(8,4))\n",
    "sns.barplot(x=kc_top_price.index, y=kc_top_price, order=kc_top_price.index, palette=\"Blues_d\")\n",
    "plt.xticks(np.arange(5), rotation=0, size=8) #relabel x with list above\n",
    "plt.hlines(kc_mean_price,  -.5 , 4.5, colors=\"darkgoldenrod\", label=\"Average Price\") #plot average price horizontal line\n",
    "\n",
    "#create labels on graph\n",
    "plt.xlabel(\"Zipcode\", size=14)\n",
    "plt.ylabel(\"Prices ($1mil)\", size=14)\n",
    "plt.title(\"Zipcodes with Highest Property Price\", size=16, y=1.08)\n",
    "plt.legend() #show legend\n",
    "plt.show();\n",
    "plt.savefig('images/top5zipcode_price.png')"
   ]
  },
  {
   "cell_type": "code",
   "execution_count": 167,
   "metadata": {},
   "outputs": [
    {
     "name": "stdout",
     "output_type": "stream",
     "text": [
      "Top 5 ranked zipcode have a statistically significant impact on average property value\n",
      "Zipcdoe ANOVA F-statisic Probability:  1.251556022310978e-19\n"
     ]
    }
   ],
   "source": [
    "alpha = 0.05 \n",
    "#ANOVA Test Setup\n",
    "kc_top5 = kc_df[kc_df.zipcode.isin(kc_top_price.index)]\n",
    "formula = 'price~C(zipcode)'\n",
    "lm_top5 = smf.ols(formula, kc_top5).fit()\n",
    "anova_top5_table = sm.stats.anova_lm(lm_top5, typ=2)\n",
    "\n",
    "if anova_top5_table[\"PR(>F)\"][0] < alpha:\n",
    "    print(\"Top 5 ranked zipcode have a statistically significant impact on average property value\")\n",
    "    print(\"Zipcdoe ANOVA F-statisic Probability: \", anova_top5_table[\"PR(>F)\"][0])"
   ]
  },
  {
   "cell_type": "code",
   "execution_count": 169,
   "metadata": {},
   "outputs": [],
   "source": [
    "# dist_dntwn = kc_df.groupby('dist_city')['price'].mean()\n",
    "# dist_dntwn.values"
   ]
  },
  {
   "cell_type": "code",
   "execution_count": 170,
   "metadata": {},
   "outputs": [
    {
     "data": {
      "image/png": "[encoded data removed]",
      "text/plain": [
       "<Figure size 792x432 with 1 Axes>"
      ]
     },
     "metadata": {},
     "output_type": "display_data"
    }
   ],
   "source": [
    "# Plot Histogram and boxplot\n",
    "# fig = plt.figure(figsize=(11,6))\n",
    "# sns.lineplot(x = dist_dntwn.index, y =dist_dntwn.values, )\n",
    "# plt.ylabel(\"Property Price, ($) \", size=14)\n",
    "# plt.xlabel(\"Distance to Downtown, (miles) \", size=14)\n",
    "# plt.title(\"Price in Relation to distance from Downtown\", size=16, y=1.02)\n",
    "# plt.show()"
   ]
  },
  {
   "cell_type": "code",
   "execution_count": 171,
   "metadata": {},
   "outputs": [],
   "source": [
    "def features_corr_matrix(df, threshold):\n",
    "    \"\"\"\n",
    "    Plot corr matrix of btw df columns\n",
    "    params: \n",
    "            df - dataframe\n",
    "            threshold - critical value for feature selection\n",
    "    return: \n",
    "            plot, list of sugested features to exclude\n",
    "    \"\"\"\n",
    "    # Create correlation matrix    \n",
    "    corr_matrix = df.corr().abs()\n",
    "    # Select upper triangle of correlation matrix\n",
    "    upper = corr_matrix.where(np.triu(np.ones(corr_matrix.shape), k=1).astype(np.bool))\n",
    "    sns.set(style=\"white\")\n",
    "    # Compute the correlation matrix\n",
    "    corr = df.corr()\n",
    "    # Generate a mask for the upper triangle\n",
    "    mask = np.zeros_like(corr, dtype=np.bool)\n",
    "    mask[np.triu_indices_from(mask)] = True\n",
    "    # Set up the matplotlib figure\n",
    "    f, ax = plt.subplots(figsize=(11, 9))\n",
    "    # Generate a custom diverging colormap\n",
    "    cmap = sns.diverging_palette(220, 10, as_cmap=True)\n",
    "    # Draw the heatmap with the mask and correct aspect ratio\n",
    "    sns.heatmap(corr, mask=mask, cmap=cmap, vmax=1, center=0,\n",
    "                square=True, linewidths=.5, cbar_kws={\"shrink\": .5})\n",
    "    plt.show()\n",
    "    to_drop = [column for column in upper.columns if any(upper[column] > threshold)]\n",
    "    return  print('Based on threshold {} , sugested featrures to drop - {}'.format(threshold,to_drop))"
   ]
  },
  {
   "cell_type": "code",
   "execution_count": 172,
   "metadata": {},
   "outputs": [
    {
     "data": {
      "image/png": "[encoded data removed]",
      "text/plain": [
       "<Figure size 792x648 with 2 Axes>"
      ]
     },
     "metadata": {},
     "output_type": "display_data"
    },
    {
     "name": "stdout",
     "output_type": "stream",
     "text": [
      "Based on threshold 0.7 , sugested featrures to drop - ['sqft_living', 'grade', 'sqft_above', 'sqft_living15', 'sqft_lot15']\n"
     ]
    },
    {
     "data": {
      "text/plain": [
       "<Figure size 576x396 with 0 Axes>"
      ]
     },
     "metadata": {},
     "output_type": "display_data"
    }
   ],
   "source": [
    "features_corr_matrix(kc_df, .7)\n",
    "plt.savefig('images/corr_matrix.png')"
   ]
  },
  {
   "cell_type": "markdown",
   "metadata": {},
   "source": [
    "## Step 3: Clean up any issues (extreme values, etc.) with the data.\n",
    "Remember that you can't just delete rows with extreme values. Similar observations might be present in the holdout data set, and you can't just delete those rows and not have a prediction for it."
   ]
  },
  {
   "cell_type": "code",
   "execution_count": null,
   "metadata": {},
   "outputs": [],
   "source": [
    "def n_bath(row):\n",
    "    if row['bathrooms'] == 0:\n",
    "        row['bathrooms'] = 1\n",
    "    if row['bathrooms'] > 10:\n",
    "        row['bathrooms'] = 10\n",
    "    return row\n",
    "kc_df = kc_df.apply(n_bath, axis = 1)"
   ]
  },
  {
   "cell_type": "code",
   "execution_count": null,
   "metadata": {},
   "outputs": [],
   "source": [
    "def n_bed(row):\n",
    "    if row['bedrooms'] ==0:\n",
    "        row['bedrooms'] = row['floors']\n",
    "    if row['bedrooms'] > 10:\n",
    "        row['bedrooms'] = 10\n",
    "    return row\n",
    "kc_df = kc_df.apply(n_bed, axis = 1)"
   ]
  },
  {
   "cell_type": "code",
   "execution_count": null,
   "metadata": {},
   "outputs": [],
   "source": [
    "kc_df['sqft_basement'] = np.where(kc_df['sqft_basement'] != 0, 1, 0)\n",
    "#Sets sqft_basement to categorical data\n",
    "kc_df['master_br'] = np.where(kc_df['bedrooms'] > 2, 1, 0)\n",
    "#Sets master_br variable being likely in a house"
   ]
  },
  {
   "cell_type": "markdown",
   "metadata": {},
   "source": [
    "## Step 4: Feature Engineering"
   ]
  },
  {
   "cell_type": "code",
   "execution_count": 119,
   "metadata": {},
   "outputs": [],
   "source": [
    "def high_corr(df, alpha = 0.7):\n",
    "    corr = df[[cor for cor in df.columns if cor != 'price']].corr()\n",
    "    corr_tuples = [(f, list(s[abs(s) > alpha].index)) for f,s in corr.iteritems()]\n",
    "    for t1, t2 in corr_tuples:\n",
    "        if t1 in t2:\n",
    "            t2.remove(t1)\n",
    "    corr_f = [t for t in corr_tuples if len(t[1]) != 0]\n",
    "    highly_corr = []\n",
    "    for t in corr_f:\n",
    "        for f in t[1]:\n",
    "            highly_corr.append(f)\n",
    "    return list(set(highly_corr))"
   ]
  },
  {
   "cell_type": "code",
   "execution_count": 120,
   "metadata": {},
   "outputs": [
    {
     "data": {
      "text/plain": [
       "['sqft_lot15',\n",
       " 'bathrooms',\n",
       " 'sqft_lot',\n",
       " 'sqft_living15',\n",
       " 'sqft_above',\n",
       " 'sqft_living',\n",
       " 'grade']"
      ]
     },
     "execution_count": 120,
     "metadata": {},
     "output_type": "execute_result"
    }
   ],
   "source": [
    "high_corr(kc_df)"
   ]
  },
  {
   "cell_type": "code",
   "execution_count": 121,
   "metadata": {},
   "outputs": [],
   "source": [
    "def city_distance(row):\n",
    "    dist = geopy.distance.geodesic((47.6205,122.3493), (row['lat'], abs(row['long'])))\n",
    "    return dist.miles"
   ]
  },
  {
   "cell_type": "code",
   "execution_count": 122,
   "metadata": {},
   "outputs": [],
   "source": [
    "kc_df['dist_city'] = kc_df.apply(city_distance, axis=1)"
   ]
  },
  {
   "cell_type": "code",
   "execution_count": 50,
   "metadata": {},
   "outputs": [],
   "source": [
    "kc_df.drop(['lat', 'long'], axis = 1, inplace = True)"
   ]
  },
  {
   "cell_type": "markdown",
   "metadata": {},
   "source": [
    "### 4.1) Identify a categorical variable in the data set and create dummy columns."
   ]
  },
  {
   "cell_type": "code",
   "execution_count": 54,
   "metadata": {},
   "outputs": [],
   "source": [
    "cat_var = ['zipcode', 'grade', 'waterfront']\n",
    "cont_var = ['bedrooms', 'bathrooms', 'dist_city', 'sqft_living', 'sqft_lot', 'yr_updated']\n"
   ]
  },
  {
   "cell_type": "code",
   "execution_count": 55,
   "metadata": {},
   "outputs": [],
   "source": [
    "# your code here\n",
    "# fuction to generate a dummy variable for a feature\n",
    "# needs tweeks\n",
    "def to_dummies(df, features):\n",
    "    \"\"\"\n",
    "    Generating dummy variables for feature\n",
    "    parama: df\n",
    "            features - list of features\n",
    "    \"\"\"\n",
    "    d_df = []\n",
    "    for f in features:\n",
    "        d_df.append(pd.get_dummies(df[f], prefix='{}'.format(str(f)[:3]), drop_first=True))\n",
    "    df = df.drop(features, axis = 1)\n",
    "    df = pd.concat([df] + d_df ,axis=1)\n",
    "    return df"
   ]
  },
  {
   "cell_type": "code",
   "execution_count": 56,
   "metadata": {},
   "outputs": [],
   "source": [
    "kc_df = to_dummies(kc_df, cat_var)"
   ]
  },
  {
   "cell_type": "markdown",
   "metadata": {},
   "source": [
    "### 4.2) There is a column that gives the date for when the house was sold, how could this be useful in your model? How might you transform the current column to a more useful feature?"
   ]
  },
  {
   "cell_type": "code",
   "execution_count": 60,
   "metadata": {},
   "outputs": [],
   "source": [
    "# We could take the first 4 numbers of the string and return it as an \n",
    "# integer, but for the purposes of our model we decided not to include\n",
    "# this variable as we did not think it had an affectt on price (only\n",
    "# two years give)"
   ]
  },
  {
   "cell_type": "markdown",
   "metadata": {},
   "source": [
    "### 4.3) There are columns for when the house was built and when it was renovated.  How could you use these columns to create a new column?"
   ]
  },
  {
   "cell_type": "code",
   "execution_count": null,
   "metadata": {},
   "outputs": [],
   "source": [
    "def yr_update(row):\n",
    "    if row['yr_renovated'] == 0:\n",
    "        row['yr_updated'] = 2021 - row['yr_built']\n",
    "    elif row['yr_renovated'] != 0:\n",
    "        row['yr_updated'] = 2021 - row['yr_renovated']\n",
    "    return row['yr_updated']"
   ]
  },
  {
   "cell_type": "code",
   "execution_count": null,
   "metadata": {},
   "outputs": [],
   "source": [
    "kc_df['yr_updated'] = kc_df.apply(yr_update, axis=1)"
   ]
  },
  {
   "cell_type": "code",
   "execution_count": null,
   "metadata": {},
   "outputs": [],
   "source": [
    "# kc_df.drop(columns = ['yr_built', 'yr_renovated'], axis = 1, inplace = True)"
   ]
  },
  {
   "cell_type": "markdown",
   "metadata": {},
   "source": [
    "### <ins>Non-linear transformations</ins>\n",
    "\n",
    "### 4.4) Create a polynomial feature for two of your continuous variables."
   ]
  },
  {
   "cell_type": "code",
   "execution_count": 17,
   "metadata": {},
   "outputs": [],
   "source": [
    "# kc_df['bedroom_squared'] = kc_df['bedrooms'] **2"
   ]
  },
  {
   "cell_type": "code",
   "execution_count": null,
   "metadata": {},
   "outputs": [],
   "source": [
    "# kc_df['bathroom_squared'] = kc_df['bathrooms'] **2"
   ]
  },
  {
   "cell_type": "code",
   "execution_count": 61,
   "metadata": {},
   "outputs": [],
   "source": [
    "kc_df['sqft_living_sqft_lot'] = kc_df['sqft_living'] * kc_df['sqft_lot']"
   ]
  },
  {
   "cell_type": "markdown",
   "metadata": {},
   "source": [
    "### 4.5) Create an interaction feature between a binary variable (dummy variable) and a continuous variable."
   ]
  },
  {
   "cell_type": "code",
   "execution_count": 21,
   "metadata": {},
   "outputs": [],
   "source": [
    "# kc_df['view_sqft_living'] = kc_df['view'] * kc_df['sqft_living']"
   ]
  },
  {
   "cell_type": "markdown",
   "metadata": {},
   "source": [
    "## Step 5: Train-Test Split\n",
    "\n",
    "If you plan on doing any scaling of your data, make sure it is done at the appropriate time. "
   ]
  },
  {
   "cell_type": "markdown",
   "metadata": {},
   "source": [
    "### 5.1) Perform a train-test split of the data."
   ]
  },
  {
   "cell_type": "code",
   "execution_count": 62,
   "metadata": {},
   "outputs": [],
   "source": [
    "summary_features = list(kc_df.columns.drop('price'))"
   ]
  },
  {
   "cell_type": "code",
   "execution_count": 63,
   "metadata": {},
   "outputs": [],
   "source": [
    "target=kc_df['price']"
   ]
  },
  {
   "cell_type": "code",
   "execution_count": 64,
   "metadata": {},
   "outputs": [],
   "source": [
    "#created a test to if our features were a good fit for out data, given a target \n",
    "#variable.\n",
    "def model_test(df, features, target):\n",
    "    target = df[target]\n",
    "    df_feature = df[features]\n",
    "    x_train, x_test, y_train, y_test = train_test_split(df_feature, \n",
    "    target, random_state = 34, test_size = 0.2)\n",
    "    lm = linear_model.LinearRegression()\n",
    "    lm = lm.fit(x_train, y_train)\n",
    "    y_train_pred = lm.predict(x_train)\n",
    "    train_rmse = np.sqrt(metrics.mean_squared_error(y_train, y_train_pred))\n",
    "    y_test_pred = lm.predict(x_test)\n",
    "    test_rmse = np.sqrt(metrics.mean_squared_error(y_test, y_test_pred))\n",
    "    print('Training: ', int(train_rmse), 'vs. Testing: ', int(test_rmse))"
   ]
  },
  {
   "cell_type": "code",
   "execution_count": 22,
   "metadata": {},
   "outputs": [
    {
     "name": "stdout",
     "output_type": "stream",
     "text": [
      "Training:  150777 vs. Testing:  154917\n"
     ]
    }
   ],
   "source": [
    "model_test(kc_df, summary_features, ['price'])"
   ]
  },
  {
   "cell_type": "code",
   "execution_count": 65,
   "metadata": {},
   "outputs": [
    {
     "name": "stdout",
     "output_type": "stream",
     "text": [
      "Training set - Features:  (13832, 97) Target:  (13832,)\n",
      "Training set - Features:  (3458, 97) Target:  (3458,)\n"
     ]
    }
   ],
   "source": [
    "#your code here \n",
    "#improt train_test_split from sklearn package\n",
    "from sklearn.model_selection import train_test_split\n",
    "#call train_test_split on the data and capture the results\n",
    "X_train, X_test, y_train, y_test = train_test_split(kc_df[summary_features], target, random_state=34,test_size=0.2)\n",
    "#check the shape of the results\n",
    "print(\"Training set - Features: \", X_train.shape, \"Target: \", y_train.shape)\n",
    "print(\"Training set - Features: \", X_test.shape, \"Target: \",y_test.shape)"
   ]
  },
  {
   "cell_type": "code",
   "execution_count": 66,
   "metadata": {},
   "outputs": [
    {
     "name": "stdout",
     "output_type": "stream",
     "text": [
      "1887834.2268693063\n",
      "[-1.89902055e+04  2.33803895e+04  1.44761442e+02  8.36324706e-01\n",
      " -3.04477942e+04  4.89525789e+04  3.17159725e+04  3.53736611e+01\n",
      " -1.97583776e+04 -9.90887553e+02  1.16081786e+00  1.06672050e+01\n",
      " -9.53519984e-02  1.77913881e+04  1.82251286e+03 -1.25927651e+04\n",
      "  7.93904543e+05  2.83324399e+05  2.36810352e+05  2.55996926e+05\n",
      "  2.54985504e+05  5.68657842e+04  1.36026936e+05  8.75368889e+04\n",
      "  8.78842198e+04 -3.01802386e+04 -3.43701524e+04  1.54288059e+05\n",
      "  1.63062036e+05  1.33830064e+05  2.09873826e+05  3.55924142e+03\n",
      "  1.08676793e+04  5.42545786e+03  3.44703059e+05  2.04813584e+05\n",
      "  2.78378589e+04  1.19380376e+06  5.06991850e+05  1.52707899e+00\n",
      "  9.28626612e+04  2.36526091e+05  2.06036922e+05  4.35012895e+04\n",
      "  8.74402674e+04  3.34681512e+04  7.46676789e+04  8.28381959e+04\n",
      " -2.76165810e+04  1.57104172e+05  1.75960022e+05  1.58102227e+05\n",
      "  1.00871740e+05 -3.20480542e+04  5.26641655e+05  3.60536382e+05\n",
      "  4.75813658e+05  1.29264886e+05  3.62522720e+05  1.28873514e+05\n",
      "  4.90037945e+05  6.29339206e+05  3.47334937e+05  3.07048682e+05\n",
      "  3.32261303e+05  1.69509966e+05  5.22882622e+05  3.49546470e+05\n",
      "  2.07293276e+05  1.94512492e+05  1.69297728e+05  2.71446373e+05\n",
      "  2.91663528e+05  1.03488973e+05  6.49238547e+04  1.45284544e+05\n",
      "  4.32241128e+04  5.16527781e+04  2.28813700e+05  2.73239565e+04\n",
      "  3.27345374e+04 -9.47025320e+03  3.88620261e+05 -2.91038305e-11\n",
      "  1.81903711e+04 -4.07384910e+04 -4.46897855e+04 -4.69071391e+04\n",
      " -2.35370776e+04  4.23104837e+04  1.63543321e+05  3.45807091e+05\n",
      "  8.64485734e+05  1.86238888e+06  6.34557621e+05 -7.61386348e+02\n",
      " -2.15970191e-04]\n"
     ]
    }
   ],
   "source": [
    "from sklearn import linear_model\n",
    "#instantiate a linear regression object\n",
    "lm = linear_model.LinearRegression()\n",
    "#fit the linear regression to the data\n",
    "lm = lm.fit(X_train, y_train)\n",
    "#print the y_intercept of our model\n",
    "print(lm.intercept_)\n",
    "#print the coefficents of each of our features\n",
    "print(lm.coef_)"
   ]
  },
  {
   "cell_type": "code",
   "execution_count": 67,
   "metadata": {},
   "outputs": [],
   "source": [
    "y_train_pred = lm.predict(X_train)\n",
    "y_test_pred = lm.predict(X_test)"
   ]
  },
  {
   "cell_type": "code",
   "execution_count": 68,
   "metadata": {},
   "outputs": [
    {
     "name": "stdout",
     "output_type": "stream",
     "text": [
      "Root Mean Squared Error: 150777.46867589888\n"
     ]
    }
   ],
   "source": [
    "from sklearn import metrics\n",
    "train_rmse = np.sqrt(metrics.mean_squared_error(y_train, y_train_pred))\n",
    "print('Root Mean Squared Error:' , train_rmse)"
   ]
  },
  {
   "cell_type": "code",
   "execution_count": 69,
   "metadata": {},
   "outputs": [
    {
     "name": "stdout",
     "output_type": "stream",
     "text": [
      "Z-Score of Root Mean Squared Error: 0.4038837489083558\n",
      "Score: 0.8320757325174764\n",
      "Mean Absolute Error:90727.44723264634\n",
      "Mean Squared Error:23999450787.463318\n",
      "Root Mean Squared Error:154917.56126231563\n",
      "Mean Absolute Error  Z: 0.24302929236709964\n",
      "Root Mean Squared Error Z: 0.4149737090284846\n",
      "Training:  150777 vs. Testing:  154917\n"
     ]
    }
   ],
   "source": [
    "price_std = target.std()\n",
    "print('Z-Score of Root Mean Squared Error:' , train_rmse/price_std)\n",
    "\n",
    "y_pred = lm.predict(X_test)\n",
    "\n",
    "print (\"Score:\", lm.score(X_test, y_test))\n",
    "\n",
    "test_mae = metrics.mean_absolute_error(y_test, y_pred)\n",
    "test_rmse = np.sqrt(metrics.mean_squared_error(y_test, y_pred))\n",
    "print('Mean Absolute Error:' + str(metrics.mean_absolute_error(y_test, y_pred)))\n",
    "print('Mean Squared Error:' + str(metrics.mean_squared_error(y_test, y_pred)))\n",
    "print('Root Mean Squared Error:' + str(np.sqrt(metrics.mean_squared_error(y_test, y_pred))))\n",
    "\n",
    "print('Mean Absolute Error  Z:', test_mae/price_std)\n",
    "print('Root Mean Squared Error Z:' , test_rmse/price_std)\n",
    "print('Training: ', int(train_rmse), \"vs. Testing: \", int(test_rmse))"
   ]
  },
  {
   "cell_type": "code",
   "execution_count": 70,
   "metadata": {},
   "outputs": [
    {
     "name": "stdout",
     "output_type": "stream",
     "text": [
      "R^2 Score: 0.8358188880182084\n"
     ]
    }
   ],
   "source": [
    "#wanted to see R^2 value to see how much our model explains variation in data\n",
    "print (\"R^2 Score:\", lm.score(X_train, y_train))"
   ]
  },
  {
   "cell_type": "markdown",
   "metadata": {},
   "source": [
    "### 5.2) Fit your scaler to training the data."
   ]
  },
  {
   "cell_type": "code",
   "execution_count": 29,
   "metadata": {},
   "outputs": [],
   "source": [
    "from sklearn.preprocessing import StandardScaler\n",
    "# setting scaler equal to our function\n",
    "scaler = StandardScaler()\n",
    "\n",
    "# fit the scaler to the training data\n",
    "scaler.fit(X_train)\n",
    "\n",
    "#transform the training data\n",
    "scaled_data = scaler.transform(X_train)"
   ]
  },
  {
   "cell_type": "code",
   "execution_count": 30,
   "metadata": {},
   "outputs": [],
   "source": [
    "#create dataframe\n",
    "X_train_scaled = pd.DataFrame(data=scaled_data, columns=X_train.columns, index=X_train.index)"
   ]
  },
  {
   "cell_type": "code",
   "execution_count": 31,
   "metadata": {},
   "outputs": [],
   "source": [
    "scaled_test_data = scaler.transform(X_test)\n",
    "\n",
    "#create dataframe\n",
    "X_test_scaled = pd.DataFrame(data=scaled_test_data, columns=X_test.columns, index=X_test.index)"
   ]
  },
  {
   "cell_type": "markdown",
   "metadata": {},
   "source": [
    "### 5.4) Fit the model to the training data."
   ]
  },
  {
   "cell_type": "code",
   "execution_count": 71,
   "metadata": {},
   "outputs": [
    {
     "name": "stdout",
     "output_type": "stream",
     "text": [
      "1887834.2268693063\n",
      "[-1.89902055e+04  2.33803895e+04  1.44761442e+02  8.36324706e-01\n",
      " -3.04477942e+04  4.89525789e+04  3.17159725e+04  3.53736611e+01\n",
      " -1.97583776e+04 -9.90887553e+02  1.16081786e+00  1.06672050e+01\n",
      " -9.53519984e-02  1.77913881e+04  1.82251286e+03 -1.25927651e+04\n",
      "  7.93904543e+05  2.83324399e+05  2.36810352e+05  2.55996926e+05\n",
      "  2.54985504e+05  5.68657842e+04  1.36026936e+05  8.75368889e+04\n",
      "  8.78842198e+04 -3.01802386e+04 -3.43701524e+04  1.54288059e+05\n",
      "  1.63062036e+05  1.33830064e+05  2.09873826e+05  3.55924142e+03\n",
      "  1.08676793e+04  5.42545786e+03  3.44703059e+05  2.04813584e+05\n",
      "  2.78378589e+04  1.19380376e+06  5.06991850e+05  1.52707899e+00\n",
      "  9.28626612e+04  2.36526091e+05  2.06036922e+05  4.35012895e+04\n",
      "  8.74402674e+04  3.34681512e+04  7.46676789e+04  8.28381959e+04\n",
      " -2.76165810e+04  1.57104172e+05  1.75960022e+05  1.58102227e+05\n",
      "  1.00871740e+05 -3.20480542e+04  5.26641655e+05  3.60536382e+05\n",
      "  4.75813658e+05  1.29264886e+05  3.62522720e+05  1.28873514e+05\n",
      "  4.90037945e+05  6.29339206e+05  3.47334937e+05  3.07048682e+05\n",
      "  3.32261303e+05  1.69509966e+05  5.22882622e+05  3.49546470e+05\n",
      "  2.07293276e+05  1.94512492e+05  1.69297728e+05  2.71446373e+05\n",
      "  2.91663528e+05  1.03488973e+05  6.49238547e+04  1.45284544e+05\n",
      "  4.32241128e+04  5.16527781e+04  2.28813700e+05  2.73239565e+04\n",
      "  3.27345374e+04 -9.47025320e+03  3.88620261e+05 -2.91038305e-11\n",
      "  1.81903711e+04 -4.07384910e+04 -4.46897855e+04 -4.69071391e+04\n",
      " -2.35370776e+04  4.23104837e+04  1.63543321e+05  3.45807091e+05\n",
      "  8.64485734e+05  1.86238888e+06  6.34557621e+05 -7.61386348e+02\n",
      " -2.15970191e-04]\n"
     ]
    }
   ],
   "source": [
    "#your code here \n",
    "from sklearn.linear_model import LinearRegression\n",
    "\n",
    "lm = linear_model.LinearRegression()\n",
    "#fit the linear regression to the data\n",
    "lm = lm.fit(X_train, y_train)\n",
    "\n",
    "print(lm.intercept_)\n",
    "print(lm.coef_)"
   ]
  },
  {
   "cell_type": "markdown",
   "metadata": {},
   "source": [
    "### 5.5) Use the model to predict on the training set and the test set."
   ]
  },
  {
   "cell_type": "code",
   "execution_count": 72,
   "metadata": {},
   "outputs": [],
   "source": [
    "#your code here \n",
    "y_train_pred = lm.predict(X_train)\n",
    "\n",
    "y_test_pred = lm.predict(X_test)"
   ]
  },
  {
   "cell_type": "markdown",
   "metadata": {},
   "source": [
    "### 5.6) Evaluate the training and test predictions using RMSE."
   ]
  },
  {
   "cell_type": "code",
   "execution_count": 73,
   "metadata": {},
   "outputs": [
    {
     "name": "stdout",
     "output_type": "stream",
     "text": [
      "Training Root Mean Squared Error: 150777.46867589888\n",
      "Training Root Mean Squared Error: 154917.56126231563\n"
     ]
    }
   ],
   "source": [
    "#your code here \n",
    "train_rmse = np.sqrt(metrics.mean_squared_error(y_train, y_train_pred))\n",
    "\n",
    "test_rmse = np.sqrt(metrics.mean_squared_error(y_test, y_test_pred))\n",
    "\n",
    "print('Training Root Mean Squared Error:' , train_rmse)\n",
    "print('Training Root Mean Squared Error:' , test_rmse)"
   ]
  },
  {
   "cell_type": "markdown",
   "metadata": {},
   "source": [
    "### 5.7) Determine if your model is overfit."
   ]
  },
  {
   "cell_type": "code",
   "execution_count": 74,
   "metadata": {},
   "outputs": [
    {
     "name": "stdout",
     "output_type": "stream",
     "text": [
      "Perfomance : 3 %\n"
     ]
    }
   ],
   "source": [
    "print('Perfomance : {} %'.format(round(abs((test_rmse-train_rmse)/train_rmse)*100)))"
   ]
  },
  {
   "cell_type": "markdown",
   "metadata": {},
   "source": [
    "## Step 6: Utilize some different feature selection techniques before or in conjuction with fitting your models."
   ]
  },
  {
   "cell_type": "markdown",
   "metadata": {},
   "source": [
    "### 6.1) Utilize a filter method to identify some features to remove from the model.  "
   ]
  },
  {
   "cell_type": "code",
   "execution_count": 75,
   "metadata": {},
   "outputs": [
    {
     "name": "stdout",
     "output_type": "stream",
     "text": [
      "Fitting estimator with 97 features.\n"
     ]
    },
    {
     "data": {
      "text/plain": [
       "RFECV(cv=7, estimator=LinearRegression(), n_jobs=-1,\n",
       "      scoring='neg_mean_absolute_error', step=2, verbose=1)"
      ]
     },
     "execution_count": 75,
     "metadata": {},
     "output_type": "execute_result"
    }
   ],
   "source": [
    "from sklearn.feature_selection import RFECV\n",
    "\n",
    "ols = LinearRegression()\n",
    "# Create recursive feature eliminator that scores features by mean squared errors\n",
    "selector = RFECV(estimator=ols, step=2, cv=7,  scoring='neg_mean_absolute_error', n_jobs=-1, verbose=1)\n",
    "\n",
    "# Fit recursive feature eliminator \n",
    "\n",
    "selector.fit(X_train, y_train)\n"
   ]
  },
  {
   "cell_type": "code",
   "execution_count": 76,
   "metadata": {},
   "outputs": [],
   "source": [
    "selected_rfe = X_train.columns[selector.support_]\n",
    "removed_rfe = X_train.columns[~selector.support_]"
   ]
  },
  {
   "cell_type": "code",
   "execution_count": 77,
   "metadata": {},
   "outputs": [],
   "source": [
    "from sklearn.feature_selection import RFECV"
   ]
  },
  {
   "cell_type": "code",
   "execution_count": 78,
   "metadata": {},
   "outputs": [],
   "source": [
    "def RFECV_selection(df, y):\n",
    "    from sklearn.feature_selection import RFECV\n",
    "    X_train, X_test, y_train, y_test = train_test_split(df, y, random_state=9, test_size=0.2)\n",
    "    scaler = StandardScaler()\n",
    "    # fit the scaler to the training data\n",
    "    scaler.fit(X_train)\n",
    "    #transform the training data\n",
    "    scaled_data = scaler.transform(X_train)\n",
    "    X_train_scaled = pd.DataFrame(data=scaled_data, columns=df.columns, index=X_train.index)\n",
    "    #transform the test data\n",
    "    scaled_test_data = scaler.transform(X_test)\n",
    "    #create dataframe\n",
    "    X_test_scaled = pd.DataFrame(data=scaled_test_data, columns=df.columns, index=X_test.index)\n",
    "    ols = LinearRegression()\n",
    "    # Create recursive feature eliminator that scores features by mean squared errors\n",
    "    selector = RFECV(estimator=ols, step=2, cv=7,  scoring='neg_mean_absolute_error', n_jobs=-1, verbose=1)\n",
    "    # Fit recursive feature eliminator \n",
    "    selector.fit(X_train_scaled, y_train)\n",
    "    selected_rfe = X_train_scaled.columns[selector.support_]\n",
    "    removed_rfe = X_train_scaled.columns[~selector.support_]\n",
    "    #instantiate a linear regression object\n",
    "    lm_rfe = LinearRegression()\n",
    "    #fit the linear regression to the data\n",
    "    lm_rfe = lm_rfe.fit(X_train_scaled[selected_rfe], y_train)\n",
    "    y_rfe = lm_rfe.predict(X_train_scaled[selected_rfe])\n",
    "    trainRFE_rmse = np.sqrt(metrics.mean_squared_error(y_train, y_rfe))\n",
    "    print('Training Root Mean Squared Error:' , trainRFE_rmse)\n",
    "    y_pred_rfe = lm_rfe.predict(X_test_scaled[selected_rfe])\n",
    "    testRFE_rmse = np.sqrt(metrics.mean_squared_error(y_test, y_pred_rfe))\n",
    "    print('Testing Root Mean Squared Error:' , testRFE_rmse)\n",
    "    print('Most Importand features acoring to RFECV :')\n",
    "    return selected_rfe"
   ]
  },
  {
   "cell_type": "code",
   "execution_count": null,
   "metadata": {},
   "outputs": [],
   "source": [
    "RFECV_selection(kc_df[summary_features], target)"
   ]
  },
  {
   "cell_type": "code",
   "execution_count": 80,
   "metadata": {
    "scrolled": true
   },
   "outputs": [],
   "source": [
    "best_features = ['bedrooms', 'bathrooms', 'sqft_living', 'sqft_lot', 'floors', 'view',\n",
    "       'condition', 'sqft_above', 'sqft_basement', 'yr_built', 'sqft_living15',\n",
    "       'sqft_lot15', 'master_br', 'zip_98004.0', 'zip_98005.0', 'zip_98006.0',\n",
    "       'zip_98007.0', 'zip_98008.0', 'zip_98010.0', 'zip_98011.0',\n",
    "       'zip_98014.0', 'zip_98019.0', 'zip_98022.0', 'zip_98023.0',\n",
    "       'zip_98024.0', 'zip_98027.0', 'zip_98028.0', 'zip_98029.0',\n",
    "       'zip_98033.0', 'zip_98034.0', 'zip_98038.0', 'zip_98039.0',\n",
    "       'zip_98040.0', 'zip_98045.0', 'zip_98052.0', 'zip_98053.0',\n",
    "       'zip_98055.0', 'zip_98056.0', 'zip_98058.0', 'zip_98059.0',\n",
    "       'zip_98065.0', 'zip_98072.0', 'zip_98074.0', 'zip_98075.0',\n",
    "       'zip_98077.0', 'zip_98092.0', 'zip_98102.0', 'zip_98103.0',\n",
    "       'zip_98105.0', 'zip_98106.0', 'zip_98107.0', 'zip_98108.0',\n",
    "       'zip_98109.0', 'zip_98112.0', 'zip_98115.0', 'zip_98116.0',\n",
    "       'zip_98117.0', 'zip_98118.0', 'zip_98119.0', 'zip_98122.0',\n",
    "       'zip_98125.0', 'zip_98126.0', 'zip_98133.0', 'zip_98136.0',\n",
    "       'zip_98144.0', 'zip_98146.0', 'zip_98148.0', 'zip_98155.0',\n",
    "       'zip_98166.0', 'zip_98168.0', 'zip_98177.0', 'zip_98178.0',\n",
    "       'zip_98199.0', 'gra_5.0', 'gra_6.0', 'gra_7.0', 'gra_8.0', 'gra_9.0',\n",
    "       'gra_10.0', 'gra_11.0', 'gra_12.0', 'gra_13.0', 'wat_1.0', 'yr_updated',\n",
    "       'sqft_living_sqft_lot']"
   ]
  },
  {
   "cell_type": "markdown",
   "metadata": {},
   "source": [
    "### 6.2) After removing the features, re-run Step 5 and see if your new model performs better than the old model."
   ]
  },
  {
   "cell_type": "code",
   "execution_count": 81,
   "metadata": {},
   "outputs": [],
   "source": [
    "def f_test_selection(df, target, k):\n",
    "    \"\"\"\n",
    "    k - Select features according to the k highest scores\n",
    "    \"\"\"\n",
    "    X_train, X_test, y_train, y_test = train_test_split(df, target, random_state=9, test_size=0.2)\n",
    "    scaler = StandardScaler()\n",
    "    # fit the scaler to the training data\n",
    "    scaler.fit(X_train)\n",
    "    #transform the training data\n",
    "    scaled_data = scaler.transform(X_train)\n",
    "    X_train_scaled = pd.DataFrame(data=scaled_data, columns=df.columns, index=X_train.index)\n",
    "    #transform the test data\n",
    "    scaled_test_data = scaler.transform(X_test)\n",
    "    #create dataframe\n",
    "    X_test_scaled = pd.DataFrame(data=scaled_test_data, columns=df.columns, index=X_test.index)\n",
    "    selector = SelectKBest(f_regression, k= k)\n",
    "    selector.fit(X_train_scaled, y_train)\n",
    "    selected_columns = X_train_scaled.columns[selector.get_support()]\n",
    "    removed_columns = X_train_scaled.columns[~selector.get_support()]\n",
    "    return selected_columns\n"
   ]
  },
  {
   "cell_type": "code",
   "execution_count": null,
   "metadata": {},
   "outputs": [],
   "source": [
    "f_test_selection(kc_df[summary_features], target, 70)"
   ]
  },
  {
   "cell_type": "code",
   "execution_count": 82,
   "metadata": {},
   "outputs": [],
   "source": [
    "from sklearn.feature_selection import SelectKBest, f_regression,mutual_info_regression\n",
    "selector = SelectKBest(f_regression, k=80)"
   ]
  },
  {
   "cell_type": "code",
   "execution_count": 83,
   "metadata": {},
   "outputs": [
    {
     "name": "stderr",
     "output_type": "stream",
     "text": [
      "/Users/christadawson/opt/anaconda3/lib/python3.8/site-packages/sklearn/feature_selection/_univariate_selection.py:302: RuntimeWarning: invalid value encountered in true_divide\n",
      "  corr /= X_norms\n"
     ]
    },
    {
     "data": {
      "text/plain": [
       "SelectKBest(k=80, score_func=<function f_regression at 0x7fb1e051daf0>)"
      ]
     },
     "execution_count": 83,
     "metadata": {},
     "output_type": "execute_result"
    }
   ],
   "source": [
    "selector.fit(X_train, y_train)"
   ]
  },
  {
   "cell_type": "code",
   "execution_count": 84,
   "metadata": {},
   "outputs": [
    {
     "data": {
      "text/plain": [
       "array([ True,  True,  True,  True,  True,  True,  True,  True,  True,\n",
       "        True,  True,  True,  True,  True,  True,  True,  True,  True,\n",
       "        True, False,  True,  True, False, False,  True,  True,  True,\n",
       "       False,  True,  True,  True,  True,  True,  True,  True, False,\n",
       "        True,  True,  True,  True,  True,  True,  True,  True,  True,\n",
       "        True, False, False, False, False,  True,  True,  True,  True,\n",
       "        True,  True,  True,  True, False,  True,  True,  True,  True,\n",
       "       False, False,  True,  True,  True, False,  True,  True, False,\n",
       "        True,  True,  True,  True, False,  True,  True,  True,  True,\n",
       "        True,  True, False,  True,  True,  True,  True, False,  True,\n",
       "        True,  True,  True,  True,  True,  True,  True])"
      ]
     },
     "execution_count": 84,
     "metadata": {},
     "output_type": "execute_result"
    }
   ],
   "source": [
    "selector.get_support()"
   ]
  },
  {
   "cell_type": "code",
   "execution_count": 85,
   "metadata": {},
   "outputs": [],
   "source": [
    "selected_columns = X_train.columns[selector.get_support()]\n",
    "removed_columns = X_train.columns[~selector.get_support()]\n",
    "# X_train = X_train[selected_columns]\n",
    "# X_test = X_test[selected_columns]"
   ]
  },
  {
   "cell_type": "code",
   "execution_count": 86,
   "metadata": {},
   "outputs": [
    {
     "name": "stdout",
     "output_type": "stream",
     "text": [
      "Training Root Mean Squared Error: 158577.40777652312\n",
      "Testing Root Mean Squared Error: 160803.1869065635\n"
     ]
    }
   ],
   "source": [
    "#instantiate a linear regression object\n",
    "lm_kbest = LinearRegression()\n",
    "#fit the linear regression to the data\n",
    "lm_kbest.fit(X_train[selected_columns], y_train)\n",
    "y_train_kbest = lm_kbest.predict(X_train[selected_columns])\n",
    "trainK_rmse = np.sqrt(metrics.mean_squared_error(y_train, y_train_kbest))\n",
    "print('Training Root Mean Squared Error:' , trainK_rmse)\n",
    "y_kbest = lm_kbest.predict(X_test[selected_columns])\n",
    "testK_rmse = np.sqrt(metrics.mean_squared_error(y_test, y_kbest))\n",
    "print('Testing Root Mean Squared Error:' , testK_rmse)"
   ]
  },
  {
   "cell_type": "code",
   "execution_count": 87,
   "metadata": {},
   "outputs": [
    {
     "name": "stdout",
     "output_type": "stream",
     "text": [
      "Original:  154917.56126231563 \n",
      " KBest:    160803.1869065635 \n",
      "\n"
     ]
    }
   ],
   "source": [
    "print('Original: ', test_rmse, '\\n',\n",
    "      \"KBest:   \", testK_rmse,'\\n')"
   ]
  },
  {
   "cell_type": "markdown",
   "metadata": {},
   "source": [
    "## Step 7: Evaluate your different models in order to determine the best model overall"
   ]
  },
  {
   "cell_type": "code",
   "execution_count": 88,
   "metadata": {},
   "outputs": [],
   "source": [
    "#instantiate a linear regression object\n",
    "lm_rfe = LinearRegression()\n",
    "\n",
    "#fit the linear regression to the data\n",
    "lm_rfe = lm.fit(X_train[selected_rfe], y_train)"
   ]
  },
  {
   "cell_type": "code",
   "execution_count": 89,
   "metadata": {},
   "outputs": [],
   "source": [
    "#your code here \n",
    "y_train_pred_rfe = lm_rfe.predict(X_train[selected_rfe])\n",
    "\n",
    "y_test_pred_rfe = lm_rfe.predict(X_test[selected_rfe])"
   ]
  },
  {
   "cell_type": "code",
   "execution_count": 90,
   "metadata": {},
   "outputs": [
    {
     "name": "stdout",
     "output_type": "stream",
     "text": [
      "Training Root Mean Squared Error: 151141.66542289726\n",
      "Training Root Mean Squared Error: 155770.342117099\n"
     ]
    }
   ],
   "source": [
    "#your code here \n",
    "train_rmse = np.sqrt(metrics.mean_squared_error(y_train, y_train_pred_rfe))\n",
    "\n",
    "test_rmse = np.sqrt(metrics.mean_squared_error(y_test, y_test_pred_rfe))\n",
    "\n",
    "print('Training Root Mean Squared Error:' , train_rmse)\n",
    "print('Training Root Mean Squared Error:' , test_rmse)"
   ]
  },
  {
   "cell_type": "code",
   "execution_count": 91,
   "metadata": {},
   "outputs": [],
   "source": [
    "from sklearn.feature_selection import RFECV\n",
    "from sklearn.preprocessing import StandardScaler"
   ]
  },
  {
   "cell_type": "code",
   "execution_count": 92,
   "metadata": {},
   "outputs": [],
   "source": [
    "ols = linear_model.LinearRegression()"
   ]
  },
  {
   "cell_type": "code",
   "execution_count": 93,
   "metadata": {},
   "outputs": [
    {
     "data": {
      "text/plain": [
       "RFECV(cv=5, estimator=LinearRegression(), n_jobs=-1,\n",
       "      scoring='neg_mean_squared_error', step=2, verbose=1)"
      ]
     },
     "execution_count": 93,
     "metadata": {},
     "output_type": "execute_result"
    }
   ],
   "source": [
    "# Create recursive feature eliminator that scores features by mean squared errors\n",
    "selector = RFECV(estimator=ols, step=2, cv=5, scoring='neg_mean_squared_error', n_jobs=-1, verbose=1)\n",
    "# Fit recursive feature eliminator\n",
    "selector.fit(X_train, y_train)"
   ]
  },
  {
   "cell_type": "code",
   "execution_count": 94,
   "metadata": {},
   "outputs": [],
   "source": [
    "selected_rfe = X_train.columns[selector.support_]\n",
    "removed_rfe = X_train.columns[~selector.support_]"
   ]
  },
  {
   "cell_type": "code",
   "execution_count": 95,
   "metadata": {},
   "outputs": [
    {
     "data": {
      "text/plain": [
       "Index([], dtype='object')"
      ]
     },
     "execution_count": 95,
     "metadata": {},
     "output_type": "execute_result"
    }
   ],
   "source": [
    "removed_rfe"
   ]
  },
  {
   "cell_type": "code",
   "execution_count": 96,
   "metadata": {},
   "outputs": [
    {
     "name": "stdout",
     "output_type": "stream",
     "text": [
      "Training Root Mean Squared Error: 150777.46867589888\n",
      "Testing Root Mean Squared Error: 154917.56126231563\n"
     ]
    }
   ],
   "source": [
    "#instantiate a linear regression object\n",
    "lm_rfe = LinearRegression()\n",
    "#fit the linear regression to the data\n",
    "lm_rfe = lm_rfe.fit(X_train[selected_rfe], y_train)\n",
    "y_rfe = lm_rfe.predict(X_train[selected_rfe])\n",
    "trainRFE_rmse = np.sqrt(metrics.mean_squared_error(y_train, y_rfe))\n",
    "print('Training Root Mean Squared Error:' , trainRFE_rmse)\n",
    "y_pred_rfe = lm_rfe.predict(X_test[selected_rfe])\n",
    "testRFE_rmse = np.sqrt(metrics.mean_squared_error(y_test, y_pred_rfe))\n",
    "print('Testing Root Mean Squared Error:' , testRFE_rmse)"
   ]
  },
  {
   "cell_type": "code",
   "execution_count": 97,
   "metadata": {},
   "outputs": [
    {
     "name": "stdout",
     "output_type": "stream",
     "text": [
      "Original:  155770.342117099 \n",
      " KBest:    160803.1869065635 \n",
      " RFE:      154917.56126231563\n"
     ]
    }
   ],
   "source": [
    "print('Original: ', test_rmse, '\\n',\n",
    "      \"KBest:   \", testK_rmse,'\\n',\n",
    "      \"RFE:     \", testRFE_rmse)"
   ]
  },
  {
   "cell_type": "markdown",
   "metadata": {},
   "source": [
    "## Step 8:  Refit your best model to the entire dataset."
   ]
  },
  {
   "cell_type": "code",
   "execution_count": 221,
   "metadata": {},
   "outputs": [],
   "source": [
    "scaler1 = StandardScaler()"
   ]
  },
  {
   "cell_type": "code",
   "execution_count": 222,
   "metadata": {},
   "outputs": [
    {
     "data": {
      "text/plain": [
       "StandardScaler()"
      ]
     },
     "execution_count": 222,
     "metadata": {},
     "output_type": "execute_result"
    }
   ],
   "source": [
    "scaler1.fit(kc_df[summary_features])"
   ]
  },
  {
   "cell_type": "code",
   "execution_count": 223,
   "metadata": {},
   "outputs": [],
   "source": [
    "scaled_data2 = scaler1.transform(kc_df[summary_features])\n",
    "df_features_scaled = pd.DataFrame(data=scaled_data2, columns=summary_features, index=kc_df.index)"
   ]
  },
  {
   "cell_type": "code",
   "execution_count": 225,
   "metadata": {},
   "outputs": [],
   "source": [
    "lm_final = LinearRegression()\n",
    "lim_final = lm.fit(df_features_scaled, target)"
   ]
  },
  {
   "cell_type": "code",
   "execution_count": 228,
   "metadata": {},
   "outputs": [],
   "source": [
    "df_features = pd.concat([df_features_scaled, kc_df_poly2[not_scaled]], axis=1)"
   ]
  },
  {
   "cell_type": "code",
   "execution_count": null,
   "metadata": {},
   "outputs": [],
   "source": [
    "lm.coef_"
   ]
  },
  {
   "cell_type": "code",
   "execution_count": 230,
   "metadata": {},
   "outputs": [
    {
     "name": "stdout",
     "output_type": "stream",
     "text": [
      "Real:  151112\n"
     ]
    }
   ],
   "source": [
    "y_pred = lm.predict(df_features_scaled)\n",
    "y_real = kc_df['price']\n",
    "rmse = np.sqrt(metrics.mean_squared_error(y_real, y_pred))\n",
    "print('Real: ', int(rmse))"
   ]
  },
  {
   "cell_type": "markdown",
   "metadata": {},
   "source": [
    "## Step 9: Save your final model using pickle.\n",
    "\n",
    "https://machinelearningmastery.com/save-load-machine-learning-models-python-scikit-learn/"
   ]
  },
  {
   "cell_type": "code",
   "execution_count": 66,
   "metadata": {},
   "outputs": [],
   "source": [
    "def scale_fit_pickle_origin(df_features, target):\n",
    "    \"\"\"\n",
    "    Scaling df with features,\n",
    "    Fit linear model with scaled features\n",
    "    Create pickle file with Scaler and Model\n",
    "    params: \n",
    "            df_features - most important features \n",
    "            target - Series\n",
    "    \"\"\"\n",
    "#     scaler = StandardScaler()\n",
    "#     # fit the scaler to the training data\n",
    "#     scaler.fit(df_features)\n",
    "#     #transform the training data\n",
    "#     scaled_data = scaler.transform(df_features)\n",
    "#     #create dataframe\n",
    "#     df_features_scaled = pd.DataFrame(data=scaled_data, columns=df_features.columns, index=df_features.index)\n",
    "    lm_final = LinearRegression()\n",
    "    #fit the linear regression to the data\n",
    "    lm_final = lm_final.fit(df_features, target)\n",
    "    pickle_out = open(\"model.pickle\",\"wb\")\n",
    "    pickle.dump(lm_final, pickle_out)\n",
    "    pickle_out.close()\n",
    "#     pickle_out = open('scaler.pickle', \"wb\")\n",
    "#     pickle.dump(scaler, pickle_out)\n",
    "#     pickle_out.close()\n",
    "    return print('CONRGATS !!! You sucessfuly created you pickles for SCALER and MODEL')"
   ]
  },
  {
   "cell_type": "code",
   "execution_count": 67,
   "metadata": {},
   "outputs": [
    {
     "name": "stdout",
     "output_type": "stream",
     "text": [
      "CONRGATS !!! You sucessfuly created you pickles for SCALER and MODEL\n"
     ]
    }
   ],
   "source": [
    "scale_fit_pickle_origin(df, target)"
   ]
  }
 ],
 "metadata": {
  "kernelspec": {
   "display_name": "Python 3",
   "language": "python",
   "name": "python3"
  },
  "language_info": {
   "codemirror_mode": {
    "name": "ipython",
    "version": 3
   },
   "file_extension": ".py",
   "mimetype": "text/x-python",
   "name": "python",
   "nbconvert_exporter": "python",
   "pygments_lexer": "ipython3",
   "version": "3.8.5"
  }
 },
 "nbformat": 4,
 "nbformat_minor": 4
}
