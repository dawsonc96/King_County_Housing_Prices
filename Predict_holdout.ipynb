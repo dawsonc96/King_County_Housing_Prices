{
 "cells": [
  {
   "cell_type": "code",
   "execution_count": 1,
   "metadata": {},
   "outputs": [],
   "source": [
    "import pandas as pd\n",
    "import numpy as np\n",
    "import datetime\n",
    "from dateutil.relativedelta import relativedelta\n",
    "\n",
    "from scipy.stats import norm\n",
    "from scipy import stats\n",
    "import seaborn as sns\n",
    "import matplotlib.pyplot as plt\n",
    "import geopy.distance\n",
    "\n",
    "from sklearn.model_selection import train_test_split\n",
    "from sklearn.linear_model import LinearRegression\n",
    "from sklearn import metrics\n",
    "from sklearn.preprocessing import PolynomialFeatures\n",
    "from sklearn.feature_selection import SelectKBest, f_regression,mutual_info_regression\n",
    "from sklearn.feature_selection import RFECV\n",
    "\n",
    "from sklearn.preprocessing import StandardScaler\n",
    "from sklearn import linear_model\n",
    "\n",
    "import statsmodels.formula.api as smf\n",
    "import statsmodels.api as sm\n",
    "\n",
    "import pickle"
   ]
  },
  {
   "cell_type": "markdown",
   "metadata": {},
   "source": [
    "## Step 1: Read in hold out data, scalers, and best model"
   ]
  },
  {
   "cell_type": "code",
   "execution_count": 2,
   "metadata": {},
   "outputs": [],
   "source": [
    "hold_out = pd.read_csv('kc_house_data_test_features.csv')\n",
    "kc_df = hold_out\n",
    "# zip_score = pd.read_csv('Niche.csv')[['zipcode']]\n",
    "# kc_df = zip_score.set_index('zipcode').join(kc_df.set_index('zipcode'))"
   ]
  },
  {
   "cell_type": "code",
   "execution_count": 3,
   "metadata": {},
   "outputs": [],
   "source": [
    "# scaler_file = open('scaler.pickle','rb')\n",
    "# final_scaler = pickle.load(scaler_file)\n",
    "model_file = open('model.pickle','rb')\n",
    "final_model = pickle.load(model_file)\n",
    "# scaler_file.close()\n",
    "model_file.close()"
   ]
  },
  {
   "cell_type": "code",
   "execution_count": 4,
   "metadata": {},
   "outputs": [
    {
     "data": {
      "text/plain": [
       "array([-1.79016469e+04,  2.55676008e+04,  1.34322982e+02,  7.27180718e-01,\n",
       "       -3.14526247e+04,  5.07290667e+04,  3.20740858e+04,  3.98061637e+01,\n",
       "       -1.53775320e+04, -1.15485605e+03,  1.42874942e+01, -4.11785813e-03,\n",
       "        1.62331867e+04,  7.74142816e+05,  2.91456347e+05,  2.42538655e+05,\n",
       "        2.49700382e+05,  2.55943780e+05,  5.20375919e+04,  1.34408830e+05,\n",
       "        8.58145214e+04,  8.47232891e+04, -3.14684463e+04, -3.52853342e+04,\n",
       "        1.60025722e+05,  1.62798250e+05,  1.31331280e+05,  2.13854714e+05,\n",
       "        3.50382064e+05,  1.99009383e+05,  2.74929905e+04,  1.20284950e+06,\n",
       "        4.86222574e+05,  9.30777099e+04,  2.35370825e+05,  2.03064786e+05,\n",
       "        3.96795427e+04,  8.47151548e+04,  3.19688853e+04,  7.21536174e+04,\n",
       "        8.44967213e+04,  1.54561110e+05,  1.74157699e+05,  1.58985735e+05,\n",
       "        1.01563196e+05, -3.43519182e+04,  5.02080551e+05,  3.53144569e+05,\n",
       "        4.85565992e+05,  1.28437637e+05,  3.57892070e+05,  1.24139598e+05,\n",
       "        5.09323033e+05,  6.45129503e+05,  3.40229389e+05,  3.03371417e+05,\n",
       "        3.28441211e+05,  1.68406765e+05,  5.16493592e+05,  3.47987969e+05,\n",
       "        2.01079176e+05,  1.95546931e+05,  1.65944825e+05,  2.65975211e+05,\n",
       "        2.93015720e+05,  9.84992349e+04,  6.01369464e+04,  1.48089670e+05,\n",
       "        5.00103782e+04,  5.33690694e+04,  2.25789114e+05,  2.89933398e+04,\n",
       "        3.88782919e+05, -5.20998637e+04, -5.18381022e+04, -5.34395577e+04,\n",
       "       -3.16343128e+04,  3.72895757e+04,  1.63073185e+05,  3.64252602e+05,\n",
       "        8.31224304e+05,  2.05845954e+06,  6.47255296e+05, -9.37123165e+02,\n",
       "       -2.00035371e-04])"
      ]
     },
     "execution_count": 4,
     "metadata": {},
     "output_type": "execute_result"
    }
   ],
   "source": [
    "final_model.coef_"
   ]
  },
  {
   "cell_type": "markdown",
   "metadata": {},
   "source": [
    "## Step 2: Feature Engineering for holdout set"
   ]
  },
  {
   "cell_type": "code",
   "execution_count": 5,
   "metadata": {},
   "outputs": [],
   "source": [
    "# keeping the ID column\n",
    "kc_id = kc_df['id']\n",
    "# dropping the ID, unnamed column, and date column as we wil not be using\n",
    "# these in our model\n",
    "kc_df.drop(['id', 'Unnamed: 0', 'date'], axis = 1, inplace = True)"
   ]
  },
  {
   "cell_type": "code",
   "execution_count": 6,
   "metadata": {},
   "outputs": [],
   "source": [
    "# created a floor and cap on our bathrooms so that if a home has 0 bathrooms,\n",
    "# set it equal to 1, and if bathrooms are more than 10, set them equal to 10 \n",
    "# so data does not skew\n",
    "def n_bath(row):\n",
    "    if row['bathrooms'] == 0:\n",
    "        row['bathrooms'] = 1\n",
    "    if row['bathrooms'] > 10:\n",
    "        row['bathrooms'] = 10\n",
    "    return row\n",
    "kc_df = kc_df.apply(n_bath, axis = 1)"
   ]
  },
  {
   "cell_type": "code",
   "execution_count": 7,
   "metadata": {},
   "outputs": [],
   "source": [
    "# same concept as above just with bedrooms\n",
    "def n_bed(row):\n",
    "    if row['bedrooms'] ==0:\n",
    "        row['bedrooms'] = row['floors']\n",
    "    if row['bedrooms'] > 10:\n",
    "        row['bedrooms'] = 10\n",
    "    return row\n",
    "kc_df = kc_df.apply(n_bed, axis = 1)"
   ]
  },
  {
   "cell_type": "code",
   "execution_count": 8,
   "metadata": {},
   "outputs": [],
   "source": [
    "kc_df['sqft_basement'] = np.where(kc_df['sqft_basement'] != 0, 1, 0)\n",
    "#Sets sqft_basement to categorical data\n",
    "kc_df['master_br'] = np.where(kc_df['bedrooms'] > 2, 1, 0)\n",
    "#Sets master_br variable being likely in a house"
   ]
  },
  {
   "cell_type": "code",
   "execution_count": 53,
   "metadata": {},
   "outputs": [],
   "source": [
    "# def city_distance(row):\n",
    "#     dist = geopy.distance.geodesic((47.6205,122.3493), (row['lat'], abs(row['long'])))\n",
    "#     return dist.miles"
   ]
  },
  {
   "cell_type": "code",
   "execution_count": 54,
   "metadata": {},
   "outputs": [],
   "source": [
    "# kc_df['dist_city'] = kc_df.apply(city_distance, axis=1)"
   ]
  },
  {
   "cell_type": "code",
   "execution_count": 9,
   "metadata": {},
   "outputs": [],
   "source": [
    "# dropped lat and long as we will not be using in our model\n",
    "kc_df.drop(['lat', 'long'], axis = 1, inplace = True)"
   ]
  },
  {
   "cell_type": "code",
   "execution_count": 10,
   "metadata": {},
   "outputs": [],
   "source": [
    "# created a list of variables we wanted to turn into dummies in our model\n",
    "cat_var = ['zipcode', 'grade', 'waterfront']"
   ]
  },
  {
   "cell_type": "code",
   "execution_count": 11,
   "metadata": {},
   "outputs": [],
   "source": [
    "def to_dummies(df, features):\n",
    "    \"\"\"\n",
    "    Generating dummy variables for feature\n",
    "    parama: df\n",
    "            features - list of features\n",
    "    \"\"\"\n",
    "    d_df = []\n",
    "    for f in features:\n",
    "        d_df.append(pd.get_dummies(df[f], prefix='{}'.format(str(f)[:3]), drop_first=True))\n",
    "    df = df.drop(features, axis = 1)\n",
    "    df = pd.concat([df] + d_df ,axis=1)\n",
    "    return df"
   ]
  },
  {
   "cell_type": "code",
   "execution_count": 12,
   "metadata": {},
   "outputs": [],
   "source": [
    "kc_df = to_dummies(kc_df, cat_var)"
   ]
  },
  {
   "cell_type": "code",
   "execution_count": 14,
   "metadata": {},
   "outputs": [],
   "source": [
    "# brought over our yr_update function, which takes into account both yr_built\n",
    "# and yr_renovates to create a number of when the house was last updated.\n",
    "def yr_update(row):\n",
    "    if row['yr_renovated'] == 0:\n",
    "        row['yr_updated'] = 2021 - row['yr_built']\n",
    "    elif row['yr_renovated'] != 0:\n",
    "        row['yr_updated'] = 2021 - row['yr_renovated']\n",
    "    return row['yr_updated']"
   ]
  },
  {
   "cell_type": "code",
   "execution_count": 15,
   "metadata": {},
   "outputs": [],
   "source": [
    "# applying our function to the model\n",
    "kc_df['yr_updated'] = kc_df.apply(yr_update, axis=1)"
   ]
  },
  {
   "cell_type": "code",
   "execution_count": 62,
   "metadata": {},
   "outputs": [],
   "source": [
    "# kc_df.drop(columns = ['yr_built', 'yr_renovated'], axis = 1, inplace = True)"
   ]
  },
  {
   "cell_type": "code",
   "execution_count": 16,
   "metadata": {},
   "outputs": [],
   "source": [
    "# created an interaction variable to show the affect sqft_living and lot \n",
    "# have on price\n",
    "kc_df['sqft_living_sqft_lot'] = kc_df['sqft_living'] * kc_df['sqft_lot']"
   ]
  },
  {
   "cell_type": "code",
   "execution_count": 17,
   "metadata": {},
   "outputs": [],
   "source": [
    "# created a column for grad_3.0 and set = 0 as no data points had that\n",
    "# value in grade. \n",
    "kc_df['grad_3.0'] = 0"
   ]
  },
  {
   "cell_type": "markdown",
   "metadata": {},
   "source": [
    "Remember we have to perform the same transformations on our holdout data (feature engineering, extreme values, and scaling) that we performed on the original data."
   ]
  },
  {
   "cell_type": "code",
   "execution_count": 28,
   "metadata": {},
   "outputs": [],
   "source": [
    "# transformed_holdout = final_scaler.transform(kc_df)"
   ]
  },
  {
   "cell_type": "code",
   "execution_count": 207,
   "metadata": {},
   "outputs": [],
   "source": []
  },
  {
   "cell_type": "code",
   "execution_count": 19,
   "metadata": {},
   "outputs": [],
   "source": [
    "best_features = ['bedrooms', 'bathrooms', 'sqft_living', 'sqft_lot', 'floors', 'view',\n",
    "       'condition', 'sqft_above', 'sqft_basement', 'yr_built', 'sqft_living15',\n",
    "       'sqft_lot15', 'master_br', 'zip_98004.0', 'zip_98005.0', 'zip_98006.0',\n",
    "       'zip_98007.0', 'zip_98008.0', 'zip_98010.0', 'zip_98011.0',\n",
    "       'zip_98014.0', 'zip_98019.0', 'zip_98022.0', 'zip_98023.0',\n",
    "       'zip_98024.0', 'zip_98027.0', 'zip_98028.0', 'zip_98029.0',\n",
    "       'zip_98033.0', 'zip_98034.0', 'zip_98038.0', 'zip_98039.0',\n",
    "       'zip_98040.0', 'zip_98045.0', 'zip_98052.0', 'zip_98053.0',\n",
    "       'zip_98055.0', 'zip_98056.0', 'zip_98058.0', 'zip_98059.0',\n",
    "       'zip_98065.0', 'zip_98072.0', 'zip_98074.0', 'zip_98075.0',\n",
    "       'zip_98077.0', 'zip_98092.0', 'zip_98102.0', 'zip_98103.0',\n",
    "       'zip_98105.0', 'zip_98106.0', 'zip_98107.0', 'zip_98108.0',\n",
    "       'zip_98109.0', 'zip_98112.0', 'zip_98115.0', 'zip_98116.0',\n",
    "       'zip_98117.0', 'zip_98118.0', 'zip_98119.0', 'zip_98122.0',\n",
    "       'zip_98125.0', 'zip_98126.0', 'zip_98133.0', 'zip_98136.0',\n",
    "       'zip_98144.0', 'zip_98146.0', 'zip_98148.0', 'zip_98155.0',\n",
    "       'zip_98166.0', 'zip_98168.0', 'zip_98177.0', 'zip_98178.0',\n",
    "       'zip_98199.0', 'gra_5.0', 'gra_6.0', 'gra_7.0', 'gra_8.0', 'gra_9.0',\n",
    "       'gra_10.0', 'gra_11.0', 'gra_12.0', 'gra_13.0', 'wat_1.0', 'yr_updated',\n",
    "       'sqft_living_sqft_lot']"
   ]
  },
  {
   "cell_type": "code",
   "execution_count": 20,
   "metadata": {},
   "outputs": [
    {
     "data": {
      "text/plain": [
       "85"
      ]
     },
     "execution_count": 20,
     "metadata": {},
     "output_type": "execute_result"
    }
   ],
   "source": [
    "# check to see if our best features had matched the features we used \n",
    "# in our modeling process\n",
    "len(best_features)"
   ]
  },
  {
   "cell_type": "markdown",
   "metadata": {},
   "source": [
    "## Step 3: Predict the holdout set"
   ]
  },
  {
   "cell_type": "code",
   "execution_count": 21,
   "metadata": {},
   "outputs": [],
   "source": [
    "# bring in our model to predict our final values on holdout set\n",
    "final_answers = final_model.predict(kc_df[best_features])"
   ]
  },
  {
   "cell_type": "code",
   "execution_count": 22,
   "metadata": {},
   "outputs": [
    {
     "data": {
      "text/plain": [
       "array([526553.35989142, 526553.35989142, 386799.36412885, 264798.57562696,\n",
       "       518064.89120282, 593493.66711429, 302389.7325296 , 289012.78808849,\n",
       "       402795.57072597, 274344.30429871])"
      ]
     },
     "execution_count": 22,
     "metadata": {},
     "output_type": "execute_result"
    }
   ],
   "source": [
    "# see the first five answers to see if we are in a good spot\n",
    "final_answers[:10]"
   ]
  },
  {
   "cell_type": "code",
   "execution_count": 24,
   "metadata": {},
   "outputs": [],
   "source": [
    "# create a data frame with our final answers to put into a csv file/\n",
    "df=pd.DataFrame(final_answers)"
   ]
  },
  {
   "cell_type": "markdown",
   "metadata": {},
   "source": [
    "## Step 4: Export your predictions"
   ]
  },
  {
   "cell_type": "code",
   "execution_count": 27,
   "metadata": {},
   "outputs": [],
   "source": [
    "df.to_csv('housing_preds_christa.csv')"
   ]
  }
 ],
 "metadata": {
  "kernelspec": {
   "display_name": "Python 3",
   "language": "python",
   "name": "python3"
  },
  "language_info": {
   "codemirror_mode": {
    "name": "ipython",
    "version": 3
   },
   "file_extension": ".py",
   "mimetype": "text/x-python",
   "name": "python",
   "nbconvert_exporter": "python",
   "pygments_lexer": "ipython3",
   "version": "3.8.5"
  }
 },
 "nbformat": 4,
 "nbformat_minor": 4
}
